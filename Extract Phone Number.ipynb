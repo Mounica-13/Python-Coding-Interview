{
 "cells": [
  {
   "cell_type": "code",
   "execution_count": 1,
   "metadata": {},
   "outputs": [],
   "source": [
    "import re"
   ]
  },
  {
   "cell_type": "markdown",
   "metadata": {},
   "source": [
    "## 1. Extract numbers from string"
   ]
  },
  {
   "cell_type": "code",
   "execution_count": 2,
   "metadata": {},
   "outputs": [
    {
     "data": {
      "text/plain": [
       "['1233', '2354', '2222']"
      ]
     },
     "execution_count": 2,
     "metadata": {},
     "output_type": "execute_result"
    }
   ],
   "source": [
    "test_phrase = 'This is a string with some numbers 1233 2354 2222'\n",
    "\n",
    "re.findall(r'\\d+',test_phrase)"
   ]
  },
  {
   "cell_type": "code",
   "execution_count": 3,
   "metadata": {},
   "outputs": [],
   "source": [
    "document = 'My phone number is  8888888888 and 7777777777'"
   ]
  },
  {
   "cell_type": "markdown",
   "metadata": {},
   "source": [
    "## 2. Extract phone number from the document"
   ]
  },
  {
   "cell_type": "code",
   "execution_count": 4,
   "metadata": {},
   "outputs": [],
   "source": [
    "doc = ''' This is a sample document with multiple phone numbers. The first one is 7777777777 .. \n",
    "Then 8888888888 and 9999999999. But 111111 is not a phone number'''"
   ]
  },
  {
   "cell_type": "code",
   "execution_count": 5,
   "metadata": {},
   "outputs": [
    {
     "name": "stdout",
     "output_type": "stream",
     "text": [
      "7777777777\n",
      "8888888888\n",
      "9999999999\n"
     ]
    }
   ],
   "source": [
    "for i in re.findall(r'\\d{10}', doc):\n",
    "    print (i)"
   ]
  },
  {
   "cell_type": "code",
   "execution_count": 6,
   "metadata": {},
   "outputs": [],
   "source": [
    "# Please note that the last number is not considered as phone number. \n",
    "# Since it is not having ten numbers."
   ]
  },
  {
   "cell_type": "markdown",
   "metadata": {},
   "source": [
    "## 3. Extract phone numbers with specific patterns"
   ]
  },
  {
   "cell_type": "code",
   "execution_count": 7,
   "metadata": {},
   "outputs": [],
   "source": [
    "doc = ''' This is a sample document with multiple phone numbers. \n",
    "+91 94 2723 7900 \n",
    "+91 9427237900\n",
    "+91-9427237900 \n",
    "+60 (0)3 2723 7900\n",
    "+60 (0)3 2723 7900\n",
    "+ 60 (0)4 255 9000\n",
    "+6 (03) 8924 8686\n",
    "+6 (03) 8924 8000\n",
    "+ 60 (7) 268-6200\n",
    "+60 (7) 228-6202\n",
    "+601-4228-8055\n",
    "We have to extract all'''"
   ]
  },
  {
   "cell_type": "code",
   "execution_count": 8,
   "metadata": {
    "scrolled": false
   },
   "outputs": [
    {
     "data": {
      "text/plain": [
       "['+91 94 2723 7900',\n",
       " '+91 9427237900',\n",
       " '+91-9427237900',\n",
       " '+60 (0)3 2723 7900',\n",
       " '+60 (0)3 2723 7900',\n",
       " '+ 60 (0)4 255 9000',\n",
       " '+6 (03) 8924 8686',\n",
       " '+6 (03) 8924 8000',\n",
       " '+ 60 (7) 268-6200',\n",
       " '+60 (7) 228-6202']"
      ]
     },
     "execution_count": 8,
     "metadata": {},
     "output_type": "execute_result"
    }
   ],
   "source": [
    "re.findall(r'\\+[-()\\s\\d]+?(?=\\s*[+<])',doc)"
   ]
  },
  {
   "cell_type": "code",
   "execution_count": null,
   "metadata": {},
   "outputs": [],
   "source": []
  }
 ],
 "metadata": {
  "kernelspec": {
   "display_name": "Python [conda env:tf] *",
   "language": "python",
   "name": "conda-env-tf-py"
  },
  "language_info": {
   "codemirror_mode": {
    "name": "ipython",
    "version": 3
   },
   "file_extension": ".py",
   "mimetype": "text/x-python",
   "name": "python",
   "nbconvert_exporter": "python",
   "pygments_lexer": "ipython3",
   "version": "3.7.4"
  }
 },
 "nbformat": 4,
 "nbformat_minor": 2
}
